{
 "cells": [
  {
   "cell_type": "code",
   "execution_count": 1,
   "metadata": {},
   "outputs": [],
   "source": [
    "import numpy as np\n",
    "\n",
    "# 0=>sleep 1=>book 2=>project 3=>game 4=>publish paper\n",
    "states=[\"sleep\",\"book\",\"project\",\"game\",\"publish paper\"]\n",
    "action=[\"sleep\",\"book\",\"project\",\"game\",\"publish paper\"]\n",
    "transition_matrix = np.array([\n",
    "    [0.3, 0.2, 0.2, 0.2, 0.1],\n",
    "    [0.2, 0, 0.8, 0, 0],\n",
    "    [0.1, 0.0, 0, 0.1, 0.8],\n",
    "    [0.6, 0, 0.4, 0, 0],\n",
    "    [0, 0, 0, 0, 1]\n",
    "])\n",
    "reward_matrix = np.array([0, 0, 5, -5, 10])\n",
    "\n"
   ]
  },
  {
   "cell_type": "code",
   "execution_count": 2,
   "metadata": {},
   "outputs": [],
   "source": [
    "discount_factor = 0.25"
   ]
  },
  {
   "cell_type": "code",
   "execution_count": 3,
   "metadata": {},
   "outputs": [
    {
     "name": "stdout",
     "output_type": "stream",
     "text": [
      "[ 0.629453    1.54721469  7.57871022 -4.14771103 13.33333333]\n"
     ]
    }
   ],
   "source": [
    "I = np.eye(len(states))\n",
    "A = I - discount_factor * transition_matrix\n",
    "value_function = np.linalg.solve(A, reward_matrix)\n",
    "print(value_function)"
   ]
  },
  {
   "cell_type": "code",
   "execution_count": 4,
   "metadata": {},
   "outputs": [
    {
     "name": "stdout",
     "output_type": "stream",
     "text": [
      "Value of state sleep: 0.6294530025960362\n",
      "Value of state book: 1.5472146933360782\n",
      "Value of state project: 7.578710216031381\n",
      "Value of state game: -4.147711028007456\n",
      "Value of state publish paper: 13.333333333333334\n"
     ]
    }
   ],
   "source": [
    "for state, value in zip(states, value_function):\n",
    "    print(f\"Value of state {state}: {value}\")"
   ]
  },
  {
   "cell_type": "code",
   "execution_count": 10,
   "metadata": {},
   "outputs": [],
   "source": [
    "policy = []\n",
    "for state in range( len(states)):\n",
    "    v=value_function\n",
    "    v = np.where(transition_matrix[state] == 0, 0, v)\n",
    "    state_policy = np.argmax(v)\n",
    "    policy.append(states[ state_policy])"
   ]
  },
  {
   "cell_type": "code",
   "execution_count": 6,
   "metadata": {},
   "outputs": [
    {
     "data": {
      "text/plain": [
       "['publish paper', 'project', 'publish paper', 'project', 'publish paper']"
      ]
     },
     "execution_count": 6,
     "metadata": {},
     "output_type": "execute_result"
    }
   ],
   "source": [
    "policy"
   ]
  }
 ],
 "metadata": {
  "kernelspec": {
   "display_name": "Python 3 (ipykernel)",
   "language": "python",
   "name": "python3"
  },
  "language_info": {
   "codemirror_mode": {
    "name": "ipython",
    "version": 3
   },
   "file_extension": ".py",
   "mimetype": "text/x-python",
   "name": "python",
   "nbconvert_exporter": "python",
   "pygments_lexer": "ipython3",
   "version": "3.11.5"
  }
 },
 "nbformat": 4,
 "nbformat_minor": 2
}
