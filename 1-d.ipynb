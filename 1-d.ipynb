{
 "cells": [
  {
   "cell_type": "code",
   "execution_count": 37,
   "metadata": {},
   "outputs": [],
   "source": [
    "import numpy as np\n",
    "import matplotlib.pyplot as plt"
   ]
  },
  {
   "cell_type": "code",
   "execution_count": 38,
   "metadata": {},
   "outputs": [],
   "source": [
    "l=5"
   ]
  },
  {
   "cell_type": "code",
   "execution_count": 39,
   "metadata": {},
   "outputs": [],
   "source": [
    "def tau(s,a):\n",
    "    if s==0 or s==l-1: return(s)\n",
    "    else: return(s+a)\n",
    "def rho(s,a):\n",
    "    return (s==1 and a==-1)+2*(s==l-2 and a==1)\n",
    "def calc_policy(Q):\n",
    "    pi = np.zeros(l)\n",
    "    for s in range(0,l):\n",
    "        action_idx=np.argmax(Q[s,:])\n",
    "        pi[s] = 2*action_idx-1\n",
    "        pi[0]=pi[l-1]=0\n",
    "    return pi.astype(int)  \n",
    "def idx(a):\n",
    "    return int((a+1)/2)\n"
   ]
  },
  {
   "cell_type": "code",
   "execution_count": 40,
   "metadata": {},
   "outputs": [],
   "source": [
    "import numpy as np\n",
    "\n",
    "Q = np.full((l, 2), 0.5)\n",
    "Q[0,:]=1\n",
    "Q[l-1,:]=2\n"
   ]
  },
  {
   "cell_type": "code",
   "execution_count": 41,
   "metadata": {},
   "outputs": [],
   "source": [
    "gamma = 0.9\n",
    "initial_state = 2"
   ]
  },
  {
   "cell_type": "code",
   "execution_count": null,
   "metadata": {},
   "outputs": [],
   "source": []
  },
  {
   "cell_type": "code",
   "execution_count": 42,
   "metadata": {},
   "outputs": [],
   "source": [
    "def update(current_state, action, gamma): \n",
    "  \n",
    "    next_state = tau(current_state, action)\n",
    "    reward = rho(current_state, action)\n",
    "    Q[current_state, idx(action)] = Q[current_state, idx(action)] - gamma * (Q[current_state, idx(action)]- np.average(Q[next_state, :]))\n",
    "    return next_state, reward"
   ]
  },
  {
   "cell_type": "code",
   "execution_count": 43,
   "metadata": {},
   "outputs": [],
   "source": [
    "\n",
    "def learning_function(Q, gamma):\n",
    "\n",
    "    current_state = initial_state\n",
    "    i=0\n",
    "\n",
    "    while current_state != 0 and current_state != l-1:\n",
    "        i+=1\n",
    "        if(i%4==0):\n",
    "            action = np.random.choice([-1, 1])\n",
    "        else:    \n",
    "\n",
    "            action = np.argmax(Q[current_state, :])\n",
    "        if(action==0): action=-1  \n",
    "        current_state, reward = update(current_state, action, gamma)\n",
    "    return Q"
   ]
  },
  {
   "cell_type": "code",
   "execution_count": 44,
   "metadata": {},
   "outputs": [
    {
     "name": "stdout",
     "output_type": "stream",
     "text": [
      "[[ 1.00000000e+00  1.00000000e+00]\n",
      " [-4.84590444e+11 -1.97232017e+37]\n",
      " [ 3.47538270e+37  2.75735714e+36]\n",
      " [-4.98081513e+36 -1.16157301e+16]\n",
      " [ 2.00000000e+00  2.00000000e+00]]\n"
     ]
    }
   ],
   "source": [
    "for i in range(100):\n",
    "    Q = learning_function(Q, gamma)\n",
    "print(Q)"
   ]
  },
  {
   "cell_type": "code",
   "execution_count": 45,
   "metadata": {},
   "outputs": [
    {
     "data": {
      "text/plain": [
       "array([ 0, -1, -1,  1,  0])"
      ]
     },
     "execution_count": 45,
     "metadata": {},
     "output_type": "execute_result"
    }
   ],
   "source": [
    "policy=calc_policy(Q)\n",
    "policy"
   ]
  }
 ],
 "metadata": {
  "kernelspec": {
   "display_name": "Python 3 (ipykernel)",
   "language": "python",
   "name": "python3"
  },
  "language_info": {
   "codemirror_mode": {
    "name": "ipython",
    "version": 3
   },
   "file_extension": ".py",
   "mimetype": "text/x-python",
   "name": "python",
   "nbconvert_exporter": "python",
   "pygments_lexer": "ipython3",
   "version": "3.11.5"
  }
 },
 "nbformat": 4,
 "nbformat_minor": 2
}
