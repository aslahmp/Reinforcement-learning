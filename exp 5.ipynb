{
 "cells": [
  {
   "cell_type": "code",
   "execution_count": 114,
   "metadata": {},
   "outputs": [],
   "source": [
    "import numpy as np"
   ]
  },
  {
   "cell_type": "code",
   "execution_count": 115,
   "metadata": {},
   "outputs": [],
   "source": [
    "class ValueIteration:\n",
    "    def __init__(self, states, actions, transition_probabilities, gamma=0.9, theta=0):\n",
    "        self.states = states\n",
    "        self.actions = actions\n",
    "        self.transition_probabilities = transition_probabilities\n",
    "\n",
    "        self.gamma = gamma\n",
    "        self.theta = theta\n",
    "        self.value_table = {state: 0 for state in states}\n",
    "    def reward(self, state,next_state):\n",
    "        if next_state == 15:\n",
    "            return 10\n",
    "        if state ==next_state:\n",
    "            return -10\n",
    "        return -1\n",
    "    def get_coordinates(self, state):\n",
    "        return state // 4, state % 4\n",
    "    \n",
    "    def isValid(self,s,a):\n",
    "        l=4\n",
    "\n",
    "\n",
    "        return (s+a>=0 and s+a<l)\n",
    "    def tau(self,s,a):\n",
    "\n",
    "        if(a=='up'):#up\n",
    "            if(self.isValid(s[0],-1)):\n",
    "                return (s[0]-1,s[1])\n",
    "        elif(a=='down'):#down\n",
    "            if(self.isValid(s[0],+1)):\n",
    "                return (s[0]+1,s[1])\n",
    "        elif(a=='left'):#left\n",
    "            if(self.isValid(s[1],-1)):\n",
    "                return (s[0],s[1]-1)    \n",
    "        elif(a=='right'):#right\n",
    "            if(self.isValid(s[1],1)):\n",
    "                return (s[0],s[1]+1)    \n",
    "        return(s)\n",
    "    def idq(self,s):\n",
    "\n",
    "\n",
    "        return ((s[0])*4)+s[1]\n",
    "    def nextState(self, state, action):\n",
    "\n",
    "        if state == 15:\n",
    "            return 15\n",
    "        row, col = self.get_coordinates(state)\n",
    "\n",
    "        s= self.tau((row, col), action)\n",
    "        return self.idq(s)\n",
    "\n",
    "    def run(self):\n",
    "        while True:\n",
    "            delta = 0\n",
    "            for state in self.states:\n",
    "                v = self.value_table[state]\n",
    "                aa=[]\n",
    "                for action in self.actions:\n",
    "                    aa.append(self.calculate_action_value(state, action))\n",
    "\n",
    "\n",
    "                self.value_table[state] = np.argmax(aa)\n",
    "\n",
    "                \n",
    "                delta = max(delta, abs(v - self.value_table[state]))\n",
    "            if delta <= self.theta:\n",
    "                break\n",
    "\n",
    "\n",
    "    def calculate_action_value(self, state, action):\n",
    "\n",
    "           s_next = self.nextState(state, action)\n",
    "\n",
    "            \n",
    "           action_value = self.transition_probabilities[state, s_next] * (self.reward(state,s_next) + self.gamma * self.value_table[s_next])\n",
    "        #    print(f\"action_value{action_value}\")\n",
    "           return action_value\n",
    "                           \n",
    "        \n",
    "\n",
    "    def get_policy(self):\n",
    "        policy = {}\n",
    "        for state in self.states:\n",
    "            a=[]\n",
    "            for action in self.actions:\n",
    "                a.append(self.calculate_action_value(state, action))\n",
    "\n",
    "            policy[state] = np.argmax(a)\n",
    "        for i in range(4):\n",
    "            print('\\n')\n",
    "            for j in range(4):\n",
    "                id=self.idq((i,j))\n",
    "                print(self.actions[ policy[id]],end=\"\\t\")\n",
    "        return policy"
   ]
  },
  {
   "cell_type": "code",
   "execution_count": 116,
   "metadata": {},
   "outputs": [],
   "source": [
    "transition_probabilities=np.array([[0,0.8,0,0,0.2,0,0,0,0,0,0,0,0,0,0,0],\n",
    "            [0.1,0,0.8,0,0,0.1,0,0,0,0,0,0,0,0,0,0],\n",
    "            [0,0.1,0,0.8,0,0,0.1,0,0,0,0,0,0,0,0,0],\n",
    "            [0,0,0.2,0,0,0,0,0.8,0,0,0,0,0,0,0,0],\n",
    "             [0.1,0,0,0,0,0.8,0,0,0.1,0,0,0,0,0,0,0],\n",
    "              [0,0.1,0,0,0,0,0.8,0,0,0.1,0,0,0,0,0,0],\n",
    "               [0,0,0.1,0,0,0,0,0.8,0,0,0.1,0,0,0,0,0],\n",
    "            [0,0,0,0.1,0,0,0.1,0,0,0,0,0.8,0,0,0,0],\n",
    "             [0,0,0,0,0.1,0,0,0,0,0.8,0,0,0.1,0,0,0],\n",
    "            [0,0,0,0,0,0.1,0,0,0,0,0.8,0,0,0.1,0,0],\n",
    "            [0,0,0,0,0,0,0.1,0,0,0,0,0.8,0,0,0.1,0],\n",
    "            [0,0,0,0,0,0,0,0.1,0,0,0.1,0,0,0,0,0.8],\n",
    "            [0,0,0,0,0,0,0,0,0.2,0,0,0,0,0.8,0,0],\n",
    "            [0,0,0,0,0,0,0,0,0,0.1,0,0,0.1,0,0.8,0],\n",
    "            [0,0,0,0,0,0,0,0,0,0,0.1,0,0,0.1,0,0.8],\n",
    "            [0,0,0,0,0,0,0,0,0,0,0,0,0,0,0,1]])\n",
    "actions = ['up', 'down', 'left', 'right']\n",
    "states = list(range(16))\n",
    "value_iteration = ValueIteration(states, actions, transition_probabilities, )"
   ]
  },
  {
   "cell_type": "code",
   "execution_count": 117,
   "metadata": {},
   "outputs": [],
   "source": [
    "value_iteration.run()\n"
   ]
  },
  {
   "cell_type": "code",
   "execution_count": 118,
   "metadata": {},
   "outputs": [
    {
     "name": "stdout",
     "output_type": "stream",
     "text": [
      "\n",
      "\n",
      "down\tdown\tdown\tdown\t\n",
      "\n",
      "right\tright\tright\tleft\t\n",
      "\n",
      "up\tup\tup\tdown\t\n",
      "\n",
      "right\tright\tright\tup\t"
     ]
    },
    {
     "data": {
      "text/plain": [
       "{0: 1,\n",
       " 1: 1,\n",
       " 2: 1,\n",
       " 3: 1,\n",
       " 4: 3,\n",
       " 5: 3,\n",
       " 6: 3,\n",
       " 7: 2,\n",
       " 8: 0,\n",
       " 9: 0,\n",
       " 10: 0,\n",
       " 11: 1,\n",
       " 12: 3,\n",
       " 13: 3,\n",
       " 14: 3,\n",
       " 15: 0}"
      ]
     },
     "execution_count": 118,
     "metadata": {},
     "output_type": "execute_result"
    }
   ],
   "source": [
    "value_iteration.get_policy()"
   ]
  }
 ],
 "metadata": {
  "kernelspec": {
   "display_name": "base",
   "language": "python",
   "name": "python3"
  },
  "language_info": {
   "codemirror_mode": {
    "name": "ipython",
    "version": 3
   },
   "file_extension": ".py",
   "mimetype": "text/x-python",
   "name": "python",
   "nbconvert_exporter": "python",
   "pygments_lexer": "ipython3",
   "version": "3.11.5"
  }
 },
 "nbformat": 4,
 "nbformat_minor": 2
}
