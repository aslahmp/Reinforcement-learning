{
 "cells": [
  {
   "cell_type": "code",
   "execution_count": 1,
   "id": "bd61f86d",
   "metadata": {},
   "outputs": [],
   "source": [
    "import numpy as np\n",
    "import random\n",
    "import gymnasium as gym;\n",
    "\n",
    "\n",
    "env=gym.make('FrozenLake-v1')\n",
    "env.reset()\n",
    "env = env\n"
   ]
  },
  {
   "cell_type": "code",
   "execution_count": null,
   "id": "5492bae4",
   "metadata": {},
   "outputs": [],
   "source": [
    "\n",
    "\n",
    "# Q-learning parameters\n",
    "alpha = 0.1  # learning rate\n",
    "gamma = 0.99  # discount factor\n",
    "epsilon = 0.1  # exploration rate\n",
    "num_episodes = 1000\n",
    "\n",
    "# Initialize Q-table\n",
    "Q = np.zeros((env.observation_space.n, env.action_space.n))\n",
    "\n",
    "# Q-learning algorithm\n",
    "for episode in range(num_episodes):\n",
    "    state = env.reset()\n",
    "    done = False\n",
    "    \n",
    "    while not done:\n",
    "        if np.random.uniform(0, 1) < epsilon:\n",
    "            action = env.action_space.sample()  # explore\n",
    "        else:\n",
    "            action = np.argmax(Q[state])  # exploit\n",
    "        \n",
    "        next_state, reward, done, _ = env.step(action)\n",
    "        \n",
    "        Q[state, action] = Q[state, action] + alpha * (reward + gamma * np.max(Q[next_state]) - Q[state, action])\n",
    "        \n",
    "        state = next_state\n",
    "\n",
    "print(\"Training completed.\")"
   ]
  }
 ],
 "metadata": {
  "kernelspec": {
   "display_name": "RL",
   "language": "python",
   "name": "python3"
  },
  "language_info": {
   "codemirror_mode": {
    "name": "ipython",
    "version": 3
   },
   "file_extension": ".py",
   "mimetype": "text/x-python",
   "name": "python",
   "nbconvert_exporter": "python",
   "pygments_lexer": "ipython3",
   "version": "3.10.14"
  }
 },
 "nbformat": 4,
 "nbformat_minor": 5
}
