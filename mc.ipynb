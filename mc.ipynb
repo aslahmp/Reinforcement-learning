{
 "cells": [
  {
   "cell_type": "code",
   "execution_count": 19,
   "metadata": {},
   "outputs": [],
   "source": [
    "import gymnasium as gym\n",
    "import numpy as np\n",
    "from gymnasium.envs.registration import register"
   ]
  },
  {
   "cell_type": "code",
   "execution_count": 20,
   "metadata": {},
   "outputs": [],
   "source": [
    "\n",
    "\n",
    "env=gym.make('FrozenLake-v1', desc=None, map_name=\"4x4\", is_slippery=True)\n",
    "# Custom Frozen Lake Environment\n",
    "class CustomFrozenLake(gym.envs.toy_text.FrozenLakeEnv):\n",
    "    def __init__(self, **kwargs):\n",
    "        super(CustomFrozenLake, self).__init__(**kwargs)\n",
    "\n",
    "    def step(self, action):\n",
    "        state, reward, done, truncated, info = super(CustomFrozenLake, self).step(action)\n",
    "        self.goal=env.unwrapped.desc.shape[0]*env.unwrapped.desc.shape[1]-1\n",
    "        if state == self.goal:\n",
    "            reward = 5  # Positive reward for reaching the goal\n",
    "        elif done and state != self.goal:\n",
    "            reward = -5  # Negative reward for falling into a hole\n",
    "        else:\n",
    "            reward =-1\n",
    "        return state, reward, done, truncated, info\n",
    "\n",
    "# Register the custom environment\n",
    "register(\n",
    "    id='CustomFrozenLake-v0',\n",
    "    entry_point='__main__:CustomFrozenLake',\n",
    "    kwargs={'is_slippery': True,\n",
    "          }\n",
    ")\n",
    "\n",
    "# Create the custom environment\n",
    "env = gym.make('CustomFrozenLake-v0', render_mode='human')\n",
    "state = env.reset()"
   ]
  },
  {
   "cell_type": "code",
   "execution_count": 21,
   "metadata": {},
   "outputs": [],
   "source": [
    "def policy_evaluation(env, policy, gamma=1.0, theta=0.00001):\n",
    "    V = np.zeros(env.nS)\n",
    "    ite = 0\n",
    "    while (ite<10):\n",
    "        delta = 0\n",
    "        for s in range(env.nS):\n",
    "            v = 0\n",
    "            for a, action_prob in enumerate(policy[s]):\n",
    "                for prob, next_state, reward, done in env.P[s][a]:\n",
    "                    v += action_prob * prob * (reward + gamma * V[next_state])\n",
    "            delta = max(delta, np.abs(v - V[s]))\n",
    "            V[s] = v\n",
    "        if delta < theta:\n",
    "            break\n",
    "        ite += 1\n",
    "    return np.array(V)\n"
   ]
  },
  {
   "cell_type": "code",
   "execution_count": 22,
   "metadata": {},
   "outputs": [],
   "source": [
    "def policy_improvement(env, policy_eval_fn=policy_evaluation, gamma=1.0):\n",
    "    def one_step_lookahead(state, V):\n",
    "        A = np.zeros(env.nA)\n",
    "        for a in range(env.nA):\n",
    "            for prob, next_state, reward, done in env.P[state][a]:\n",
    "                A[a] += prob * (reward + gamma * V[next_state])\n",
    "        return A\n",
    "\n",
    "    policy = np.zeros([env.nS, env.nA]) / env.nA\n",
    "    ite = 0\n",
    "    while (ite<10):\n",
    "        V = policy_eval_fn(env, policy, gamma=gamma)\n",
    "\n",
    "        policy_stable = True\n",
    "        for s in range(env.nS):\n",
    "            chosen_a = np.argmax(policy[s])\n",
    "            action_values = one_step_lookahead(s, V)\n",
    "            best_a = np.argmax(action_values)\n",
    "            if chosen_a != best_a:\n",
    "                policy_stable = False\n",
    "            policy[s] = np.eye(env.nA)[best_a]\n",
    "        if policy_stable:\n",
    "            return policy, V\n",
    "        ite += 1\n",
    "    return policy, V"
   ]
  },
  {
   "cell_type": "code",
   "execution_count": null,
   "metadata": {},
   "outputs": [],
   "source": []
  },
  {
   "cell_type": "code",
   "execution_count": 23,
   "metadata": {},
   "outputs": [
    {
     "data": {
      "text/plain": [
       "0.0"
      ]
     },
     "execution_count": 23,
     "metadata": {},
     "output_type": "execute_result"
    }
   ],
   "source": [
    "def policy_render(env, policy, n=10):\n",
    "    wins = 0\n",
    "    for _ in range(n):\n",
    "        state,_ = env.reset()\n",
    "        done = False\n",
    "        while not done:\n",
    "            action = np.argmax(policy[state])\n",
    "            state, reward, done,_, info = env.step(action)\n",
    "            env.render()\n",
    "            if done and reward == 1:\n",
    "                wins += 1\n",
    "    return wins / n\n",
    "\n",
    "\n",
    "env.nS = 16\n",
    "env.nA = 4\n",
    "random_policy = np.ones([env.nS, env.nA]) / env.nA\n",
    "v = policy_evaluation(env, random_policy)\n",
    "policy, v = policy_improvement(env)\n",
    "policy_render(env, policy)"
   ]
  },
  {
   "cell_type": "code",
   "execution_count": 24,
   "metadata": {},
   "outputs": [],
   "source": [
    "a = env.observation_space"
   ]
  },
  {
   "cell_type": "code",
   "execution_count": 25,
   "metadata": {},
   "outputs": [
    {
     "data": {
      "text/plain": [
       "Discrete(16)"
      ]
     },
     "execution_count": 25,
     "metadata": {},
     "output_type": "execute_result"
    }
   ],
   "source": [
    "a"
   ]
  },
  {
   "cell_type": "code",
   "execution_count": 26,
   "metadata": {},
   "outputs": [],
   "source": [
    "# observation, info = env.reset()\n",
    "\n",
    "# episode_over = False\n",
    "# while not episode_over:\n",
    "#     action = env.action_space.sample()  # agent policy that uses the observation and info\n",
    "#     observation, reward, terminated, truncated, info = env.step(action)\n",
    "\n",
    "#     episode_over = terminated or truncated\n",
    "\n",
    "# env.close()"
   ]
  }
 ],
 "metadata": {
  "kernelspec": {
   "display_name": "base",
   "language": "python",
   "name": "python3"
  },
  "language_info": {
   "codemirror_mode": {
    "name": "ipython",
    "version": 3
   },
   "file_extension": ".py",
   "mimetype": "text/x-python",
   "name": "python",
   "nbconvert_exporter": "python",
   "pygments_lexer": "ipython3",
   "version": "3.11.5"
  }
 },
 "nbformat": 4,
 "nbformat_minor": 2
}
