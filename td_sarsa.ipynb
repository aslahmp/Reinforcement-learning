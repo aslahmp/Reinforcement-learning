{
 "cells": [
  {
   "cell_type": "code",
   "execution_count": 1,
   "metadata": {},
   "outputs": [],
   "source": [
    "import gymnasium as gym\n",
    "import numpy as np\n",
    "from gymnasium.envs.registration import register"
   ]
  },
  {
   "cell_type": "code",
   "execution_count": 2,
   "metadata": {},
   "outputs": [
    {
     "name": "stderr",
     "output_type": "stream",
     "text": [
      "2024-11-19 15:25:31.805 python[34250:10137421] +[IMKClient subclass]: chose IMKClient_Modern\n",
      "2024-11-19 15:25:31.805 python[34250:10137421] +[IMKInputSession subclass]: chose IMKInputSession_Modern\n"
     ]
    }
   ],
   "source": [
    "\n",
    "\n",
    "env=gym.make('FrozenLake-v1', desc=None, map_name=\"4x4\", is_slippery=True)\n",
    "# Custom Frozen Lake Environment\n",
    "class CustomFrozenLake(gym.envs.toy_text.FrozenLakeEnv):\n",
    "    def __init__(self, **kwargs):\n",
    "        super(CustomFrozenLake, self).__init__(**kwargs)\n",
    "\n",
    "    def step(self, action):\n",
    "        state, reward, done, truncated, info = super(CustomFrozenLake, self).step(action)\n",
    "        self.goal=env.unwrapped.desc.shape[0]*env.unwrapped.desc.shape[1]-1\n",
    "        if state == self.goal:\n",
    "            reward = 5  # Positive reward for reaching the goal\n",
    "        elif done and state != self.goal:\n",
    "            reward = -5  # Negative reward for falling into a hole\n",
    "        else:\n",
    "            reward =-1\n",
    "        return state, reward, done, truncated, info\n",
    "\n",
    "# Register the custom environment\n",
    "register(\n",
    "    id='CustomFrozenLake-v0',\n",
    "    entry_point='__main__:CustomFrozenLake',\n",
    "    kwargs={'is_slippery': True,\n",
    "          }\n",
    ")\n",
    "\n",
    "# Create the custom environment\n",
    "env = gym.make('CustomFrozenLake-v0', render_mode='human')\n",
    "state = env.reset()\n"
   ]
  },
  {
   "cell_type": "code",
   "execution_count": null,
   "metadata": {},
   "outputs": [
    {
     "ename": "",
     "evalue": "",
     "output_type": "error",
     "traceback": [
      "\u001b[1;31mThe Kernel crashed while executing code in the current cell or a previous cell. \n",
      "\u001b[1;31mPlease review the code in the cell(s) to identify a possible cause of the failure. \n",
      "\u001b[1;31mClick <a href='https://aka.ms/vscodeJupyterKernelCrash'>here</a> for more info. \n",
      "\u001b[1;31mView Jupyter <a href='command:jupyter.viewOutput'>log</a> for further details."
     ]
    }
   ],
   "source": [
    "import random\n",
    "\n",
    "alpha = 0.4\n",
    "epsilon = 0.2\n",
    "num_episodes = 1000\n",
    "gamma = 0.99\n",
    "\n",
    "Q = np.zeros((env.observation_space.n, env.action_space.n))\n",
    "\n",
    "def getAction(state, Q, epsilon):\n",
    "    if random.uniform(0, 1) < epsilon:\n",
    "        return env.action_space.sample()  \n",
    "    else:\n",
    "        return np.argmax(Q[state])  \n",
    "\n",
    "\n",
    "for episode in range(num_episodes):\n",
    "    state, _ = env.reset()\n",
    "    action = getAction(state, Q, epsilon)\n",
    "    \n",
    "    while True:\n",
    "        next_state, reward, done, truncated, info = env.step(action)\n",
    "        next_action = getAction(next_state, Q, epsilon)\n",
    "        \n",
    "\n",
    "        Q[state, action] = Q[state, action] + alpha * (reward + gamma * Q[next_state, next_action] - Q[state, action])\n",
    "        \n",
    "        state = next_state\n",
    "        action = next_action\n",
    "        \n",
    "        if done:\n",
    "            break"
   ]
  }
 ],
 "metadata": {
  "kernelspec": {
   "display_name": "RL",
   "language": "python",
   "name": "python3"
  },
  "language_info": {
   "codemirror_mode": {
    "name": "ipython",
    "version": 3
   },
   "file_extension": ".py",
   "mimetype": "text/x-python",
   "name": "python",
   "nbconvert_exporter": "python",
   "pygments_lexer": "ipython3",
   "version": "3.10.14"
  }
 },
 "nbformat": 4,
 "nbformat_minor": 2
}
